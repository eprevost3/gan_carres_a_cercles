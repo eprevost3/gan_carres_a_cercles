{
 "cells": [
  {
   "cell_type": "code",
   "execution_count": 5,
   "metadata": {},
   "outputs": [],
   "source": [
    "import tensorflow as tf"
   ]
  },
  {
   "cell_type": "code",
   "execution_count": 9,
   "metadata": {},
   "outputs": [],
   "source": [
    "from keras.layers import Conv2D, MaxPooling2D, Dense, ReLU\n",
    "import matplotlib.pyplot as plt\n",
    "import numpy as np"
   ]
  },
  {
   "cell_type": "code",
   "execution_count": 17,
   "metadata": {},
   "outputs": [],
   "source": [
    "def create_square_image(min_width, max_width, image_size) : \n",
    "    # white RGB image\n",
    "    image = 255 * np.ones((*image_size, 3))\n",
    "    \n",
    "    # find top left coordinates of square\n",
    "    x = np.random.randint(image_size[0] - max_width)   \n",
    "    y = np.random.randint(image_size[1] - max_width) \n",
    "    \n",
    "    side_size = np.random.randint(min_width, max_width)\n",
    "    \n",
    "    # getting a random color\n",
    "    color = np.random.randint(0, 255, size = (1, 1, 3))\n",
    "    image[x : x + side_size, y : y + side_size, : ] = color\n",
    "    \n",
    "    metadata = (x, y, side_size, color)\n",
    "    return(image, metadata)"
   ]
  },
  {
   "cell_type": "code",
   "execution_count": null,
   "metadata": {
    "scrolled": true
   },
   "outputs": [],
   "source": [
    "\"\"\"\n",
    "for k in range(8192) : \n",
    "    plt.figure(frameon = False)\n",
    "    plt.axis(\"off\")\n",
    "    img, metadata = create_square_image(32, 128, (256, 256))\n",
    "    x, y, size_side, color = metadata\n",
    "    plt.imshow(img / 255)\n",
    "    plt.savefig(\"data/train/carres/carre_{}_{}_{}_({},{},{}).png\".format(\n",
    "        str(x), str(y), str(size_side), str(color[0,0,0]), str(color[0,0,1]), str(color[0,0,2])))\n",
    "    plt.close()\n",
    "    \n",
    "    \n",
    "for k in range(1024) : \n",
    "    plt.figure(frameon = False)\n",
    "    plt.axis(\"off\")\n",
    "    img, metadata = create_square_image(32, 128, (256, 256))\n",
    "    x, y, size_side, color = metadata\n",
    "    plt.imshow(img / 255)\n",
    "    plt.savefig(\"data/test/carres/carre_{}_{}_{}_({},{},{}).png\".format(\n",
    "        str(x), str(y), str(size_side), str(color[0,0,0]), str(color[0,0,1]), str(color[0,0,2])))\n",
    "    plt.close()\n",
    "\"\"\""
   ]
  },
  {
   "cell_type": "code",
   "execution_count": 53,
   "metadata": {},
   "outputs": [],
   "source": [
    "def create_circle_image(min_diameter, max_diameter, image_size) : \n",
    "    # white RGB image\n",
    "    image = 255 * np.ones((*image_size, 3))\n",
    "    \n",
    "    # find coordinates of circle\n",
    "    x = np.random.randint(max_diameter / 2, image_size[0] - max_diameter / 2)   \n",
    "    y = np.random.randint(max_diameter / 2, image_size[1] - max_diameter / 2) \n",
    "    \n",
    "    diameter = np.random.randint(min_diameter, max_diameter)\n",
    "    radius = diameter / 2\n",
    "    \n",
    "    # following arrays indicate the x and y coordinate of every row and column\n",
    "    X = np.array([list(range(image_size[0])) for k in range(image_size[1])])\n",
    "    Y = np.array([k * np.ones(image_size[0]) for k in range(image_size[1])])\n",
    "    \n",
    "    # getting the distance between center of circle and every other point \n",
    "    # of the image \n",
    "    distances = ((X - x) ** 2 + (Y - y) ** 2) ** .5\n",
    "    \n",
    "    # basically the distances array indicates how far is every point from the\n",
    "    # center of the circle. Now let's give a color to all points which are contained\n",
    "    # in the circle limits\n",
    "    bool_mask = distances <= radius\n",
    "    \n",
    "    # getting a random color\n",
    "    color = np.random.randint(0, 255, size = (1, 1, 3))\n",
    "\n",
    "    image[bool_mask] = color\n",
    "    \n",
    "    metadata = (x, y, radius, color)\n",
    "    return(image, metadata)"
   ]
  },
  {
   "cell_type": "code",
   "execution_count": 54,
   "metadata": {
    "scrolled": true
   },
   "outputs": [
    {
     "name": "stdout",
     "output_type": "stream",
     "text": [
      "(89, 179, 31.5, array([[[47, 57, 78]]]))\n"
     ]
    },
    {
     "data": {
      "image/png": "[encoded data removed]",
      "text/plain": [
       "<Figure size 432x288 with 1 Axes>"
      ]
     },
     "metadata": {
      "needs_background": "light"
     },
     "output_type": "display_data"
    },
    {
     "name": "stdout",
     "output_type": "stream",
     "text": [
      "(116, 101, 49.0, array([[[51, 58, 70]]]))\n"
     ]
    },
    {
     "data": {
      "image/png": "[encoded data removed]",
      "text/plain": [
       "<Figure size 432x288 with 1 Axes>"
      ]
     },
     "metadata": {
      "needs_background": "light"
     },
     "output_type": "display_data"
    },
    {
     "name": "stdout",
     "output_type": "stream",
     "text": [
      "(161, 123, 25.0, array([[[ 96,  10, 224]]]))\n"
     ]
    },
    {
     "data": {
      "image/png": "[encoded data removed]",
      "text/plain": [
       "<Figure size 432x288 with 1 Axes>"
      ]
     },
     "metadata": {
      "needs_background": "light"
     },
     "output_type": "display_data"
    },
    {
     "name": "stdout",
     "output_type": "stream",
     "text": [
      "(145, 105, 40.5, array([[[ 75, 199, 229]]]))\n"
     ]
    },
    {
     "data": {
      "image/png": "[encoded data removed]",
      "text/plain": [
       "<Figure size 432x288 with 1 Axes>"
      ]
     },
     "metadata": {
      "needs_background": "light"
     },
     "output_type": "display_data"
    },
    {
     "name": "stdout",
     "output_type": "stream",
     "text": [
      "(91, 86, 27.0, array([[[ 80, 103, 173]]]))\n"
     ]
    },
    {
     "data": {
      "image/png": "[encoded data removed]",
      "text/plain": [
       "<Figure size 432x288 with 1 Axes>"
      ]
     },
     "metadata": {
      "needs_background": "light"
     },
     "output_type": "display_data"
    },
    {
     "name": "stdout",
     "output_type": "stream",
     "text": [
      "(126, 77, 20.5, array([[[ 83, 252, 125]]]))\n"
     ]
    },
    {
     "data": {
      "image/png": "[encoded data removed]",
      "text/plain": [
       "<Figure size 432x288 with 1 Axes>"
      ]
     },
     "metadata": {
      "needs_background": "light"
     },
     "output_type": "display_data"
    },
    {
     "name": "stdout",
     "output_type": "stream",
     "text": [
      "(157, 68, 43.5, array([[[  7,  79, 119]]]))\n"
     ]
    },
    {
     "data": {
      "image/png": "[encoded data removed]",
      "text/plain": [
       "<Figure size 432x288 with 1 Axes>"
      ]
     },
     "metadata": {
      "needs_background": "light"
     },
     "output_type": "display_data"
    },
    {
     "name": "stdout",
     "output_type": "stream",
     "text": [
      "(102, 82, 44.5, array([[[174, 138, 221]]]))\n"
     ]
    },
    {
     "data": {
      "image/png": "[encoded data removed]",
      "text/plain": [
       "<Figure size 432x288 with 1 Axes>"
      ]
     },
     "metadata": {
      "needs_background": "light"
     },
     "output_type": "display_data"
    },
    {
     "name": "stdout",
     "output_type": "stream",
     "text": [
      "(161, 124, 31.0, array([[[170,  54, 237]]]))\n"
     ]
    },
    {
     "data": {
      "image/png": "[encoded data removed]",
      "text/plain": [
       "<Figure size 432x288 with 1 Axes>"
      ]
     },
     "metadata": {
      "needs_background": "light"
     },
     "output_type": "display_data"
    },
    {
     "name": "stdout",
     "output_type": "stream",
     "text": [
      "(154, 160, 49.0, array([[[113, 115, 185]]]))\n"
     ]
    },
    {
     "data": {
      "image/png": "[encoded data removed]",
      "text/plain": [
       "<Figure size 432x288 with 1 Axes>"
      ]
     },
     "metadata": {
      "needs_background": "light"
     },
     "output_type": "display_data"
    }
   ],
   "source": [
    "for k in range(10) : \n",
    "    img, _ = create_circle_image(32, 128, (256, 256))\n",
    "    print(_)\n",
    "    plt.imshow(img / 255)\n",
    "    plt.show()"
   ]
  },
  {
   "cell_type": "code",
   "execution_count": 65,
   "metadata": {},
   "outputs": [
    {
     "data": {
      "text/plain": [
       "121"
      ]
     },
     "execution_count": 65,
     "metadata": {},
     "output_type": "execute_result"
    }
   ],
   "source": [
    "color[0, 0, 0]"
   ]
  },
  {
   "cell_type": "code",
   "execution_count": 59,
   "metadata": {},
   "outputs": [
    {
     "data": {
      "text/plain": [
       "(50, 81, 50, array([[[54, 21, 26]]]))"
      ]
     },
     "execution_count": 59,
     "metadata": {},
     "output_type": "execute_result"
    }
   ],
   "source": [
    "metadata"
   ]
  },
  {
   "cell_type": "code",
   "execution_count": null,
   "metadata": {},
   "outputs": [],
   "source": []
  }
 ],
 "metadata": {
  "kernelspec": {
   "display_name": "Python 3",
   "language": "python",
   "name": "python3"
  },
  "language_info": {
   "codemirror_mode": {
    "name": "ipython",
    "version": 3
   },
   "file_extension": ".py",
   "mimetype": "text/x-python",
   "name": "python",
   "nbconvert_exporter": "python",
   "pygments_lexer": "ipython3",
   "version": "3.7.4"
  }
 },
 "nbformat": 4,
 "nbformat_minor": 2
}
